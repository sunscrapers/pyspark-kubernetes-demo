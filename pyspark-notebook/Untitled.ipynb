{
 "cells": [
  {
   "cell_type": "code",
   "execution_count": 1,
   "id": "93d0637b-b01b-4bac-9b65-ae0e91ecfc3a",
   "metadata": {},
   "outputs": [
    {
     "name": "stdout",
     "output_type": "stream",
     "text": [
      "Python version: 3.10.11\n",
      "The PySpark 3.4.0 version is running...\n"
     ]
    }
   ],
   "source": [
    "import os\n",
    "import sys\n",
    "\n",
    "from pyspark import SparkContext, SparkConf\n",
    "from pyspark.sql import SparkSession\n",
    "\n",
    "from platform import python_version\n",
    "\n",
    "# Create Spark config for our Kubernetes based cluster manager\n",
    "sparkConf = SparkConf()\n",
    "sparkConf.setMaster(\"k8s://https://kubernetes.docker.internal:6443\")\n",
    "sparkConf.setAppName(\"spark\")\n",
    "sparkConf.set(\"spark.kubernetes.container.image\", \"mzelazkiewicz/spark-py:v3.4.1\")\n",
    "sparkConf.set(\"spark.kubernetes.namespace\", \"spark\")\n",
    "sparkConf.set(\"spark.executor.instances\", \"2\")\n",
    "sparkConf.set(\"spark.executor.cores\", \"1\")\n",
    "sparkConf.set(\"spark.driver.memory\", \"512m\")\n",
    "sparkConf.set(\"spark.executor.memory\", \"512m\")\n",
    "sparkConf.set(\"spark.kubernetes.pyspark.pythonVersion\", \"3\")\n",
    "sparkConf.set(\"spark.kubernetes.authenticate.driver.serviceAccountName\", \"spark\")\n",
    "sparkConf.set(\"spark.kubernetes.authenticate.serviceAccountName\", \"spark\")\n",
    "sparkConf.set(\"spark.driver.port\", \"29413\")\n",
    "sparkConf.set(\"spark.driver.host\", \"spark-driver.spark.svc.cluster.local\")\n",
    "\n",
    "# Initialize our Spark cluster, this will actually generate the worker nodes.\n",
    "spark = SparkSession.builder.config(conf=sparkConf).getOrCreate()\n",
    "sc = spark.sparkContext\n",
    "\n",
    "print(f'Python version: {python_version()}')\n",
    "print(f'The PySpark {spark.version} version is running...')"
   ]
  },
  {
   "cell_type": "code",
   "execution_count": 2,
   "id": "9e786723-cadd-4036-b4e1-da8363ba090a",
   "metadata": {},
   "outputs": [
    {
     "name": "stdout",
     "output_type": "stream",
     "text": [
      "Pi is roughly 3.141080\n"
     ]
    }
   ],
   "source": [
    "from random import random\n",
    "from operator import add\n",
    "partitions = 7\n",
    "n = 10000000 * partitions\n",
    "def f(_):\n",
    "    x = random() * 2 - 1\n",
    "    y = random() * 2 - 1\n",
    "    \n",
    "    return 1 if x ** 2 + y ** 2 <= 1 else 0\n",
    "count = sc.parallelize(range(1, n + 1), partitions).map(f).reduce(add)\n",
    "print(\"Pi is roughly %f\" % (4.0 * count / n))"
   ]
  },
  {
   "cell_type": "code",
   "execution_count": 3,
   "id": "82d811e5-bf6b-41d7-a87f-90665d32d8d4",
   "metadata": {},
   "outputs": [
    {
     "name": "stdout",
     "output_type": "stream",
     "text": [
      "Count of numbers less than 10: 5\n"
     ]
    }
   ],
   "source": [
    "# 1. Creating an RDD from a Python List\n",
    "data = [1, 2, 3, 5, 8, 13, 21, 34, 55]\n",
    "rdd = sc.parallelize(data)\n",
    "\n",
    "# 2. Filtering Data using Spark Transformations\n",
    "filtered_rdd = rdd.filter(lambda x: x < 10)\n",
    "\n",
    "# 3. Action to Fetch the Result\n",
    "count = filtered_rdd.count()\n",
    "\n",
    "print(f\"Count of numbers less than 10: {count}\")"
   ]
  },
  {
   "cell_type": "code",
   "execution_count": null,
   "id": "343b2817-09b6-4da3-a78f-cd2db4680ca7",
   "metadata": {},
   "outputs": [],
   "source": []
  }
 ],
 "metadata": {
  "kernelspec": {
   "display_name": "Python 3 (ipykernel)",
   "language": "python",
   "name": "python3"
  },
  "language_info": {
   "codemirror_mode": {
    "name": "ipython",
    "version": 3
   },
   "file_extension": ".py",
   "mimetype": "text/x-python",
   "name": "python",
   "nbconvert_exporter": "python",
   "pygments_lexer": "ipython3",
   "version": "3.10.11"
  }
 },
 "nbformat": 4,
 "nbformat_minor": 5
}
